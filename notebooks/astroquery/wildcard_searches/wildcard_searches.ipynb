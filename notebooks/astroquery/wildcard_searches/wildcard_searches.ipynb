{
 "cells": [
  {
   "cell_type": "markdown",
   "id": "ba875f5a",
   "metadata": {},
   "source": [
    "# Wildcard Handling with Astroquery.mast"
   ]
  },
  {
   "cell_type": "markdown",
   "id": "82aa07ce",
   "metadata": {},
   "source": [
    "----"
   ]
  },
  {
   "cell_type": "markdown",
   "id": "f663f21e",
   "metadata": {},
   "source": [
    "## Learning Goals"
   ]
  },
  {
   "cell_type": "markdown",
   "id": "683067ea",
   "metadata": {},
   "source": [
    "By the end of this tutorial, you will:\n",
    "\n",
    "* Use the wildcards available for `astroquery.mast.Observations` criteria queries\n",
    "* Broaden and refine `astroquery.mast.Observations` criteria queries\n",
    "* Fully utilize the `instrument_name` criteria, especially for JWST queries\n",
    "* Query for moving targets using target ephemeris and time criteria such as `t_min` and `t_max`"
   ]
  },
  {
   "cell_type": "markdown",
   "id": "299dbd42",
   "metadata": {},
   "source": [
    "## Introduction"
   ]
  },
  {
   "cell_type": "markdown",
   "id": "e3f8b9c2",
   "metadata": {},
   "source": [
    "This Notebook demonstrates the use of wildcards in `astroquery.mast.Observations` criteria queries. The use of wildcards is encouraged for certain criteria types (namely, `string` object types) to ensure your query returns all results. \n",
    "\n",
    "We will demonstrate 3 use-cases for wildcards when doing criteria queries and emphasize certain criteria where wildcard usage is highly encouraged, particularly for JWST queries. We will also use the last example to demonstrate the use of value ranges when working with `float` object criteria types.\n",
    "\n",
    "The workflow for this notebook consists of:\n",
    "\n",
    "* [Wildcard overview with `astroquery.mast.Observations`](#overview)\n",
    "    1. [Wildcard Search with `instrument_name`](#case1)\n",
    "    2. [Wildcard Search with `instrument_name` and `proposal_id`](#case2)\n",
    "    3. [Wildcard Search a Time-sensitive Object with `target_name` and `t_min`](#case3)\n",
    "* Resources"
   ]
  },
  {
   "cell_type": "markdown",
   "id": "081aec44",
   "metadata": {},
   "source": [
    "## Imports"
   ]
  },
  {
   "cell_type": "code",
   "execution_count": null,
   "id": "e3b0d9a0",
   "metadata": {},
   "outputs": [],
   "source": [
    "import astropy.units as u\n",
    "import matplotlib.pyplot as plt\n",
    "\n",
    "from astropy.coordinates import SkyCoord\n",
    "from astropy.table import Table, unique, vstack\n",
    "from astropy.time import Time\n",
    "from astroquery.mast import Observations"
   ]
  },
  {
   "cell_type": "markdown",
   "id": "6fa247ec",
   "metadata": {},
   "source": [
    "----"
   ]
  },
  {
   "cell_type": "markdown",
   "id": "9485fb4d",
   "metadata": {},
   "source": [
    "<a id=\"overview\"></a>\n",
    "## Wildcards with `astroquery.mast.Observations`"
   ]
  },
  {
   "cell_type": "markdown",
   "id": "01935242",
   "metadata": {},
   "source": [
    "The use of wildcards when making `astroquery.mast.Observations` queries can help ensure you retrieve all observations without leaving anything out. The available wildcards are `%` and `*`: `%` replaces a single character, while `*` replaces more than one character preceding, following, or in between the existing characters, depending on its placement. See the [Observation Criteria Queries](https://astroquery.readthedocs.io/en/latest/mast/mast.html#observation-criteria-queries) section in the `astroquery.mast` documentation for more information on the wildcards.\n",
    "\n",
    "Wildcards are only available for certain criteria. `string` type objects accept wildcards, but `float`, `integer`, or any other objects do not accept wildcards.\n",
    "\n",
    "Users may call the `get_metadata` method to see the list of query criteria and their data types. The criteria listed as `string` objects under the **Data Type** column are criteria that can be called with wildcards:"
   ]
  },
  {
   "cell_type": "code",
   "execution_count": null,
   "id": "a892c185",
   "metadata": {
    "scrolled": true
   },
   "outputs": [],
   "source": [
    "Observations.get_metadata(\"observations\")"
   ]
  },
  {
   "cell_type": "markdown",
   "id": "74d0a968",
   "metadata": {},
   "source": [
    "<a id=\"case1\"></a>\n",
    "### Case 1: Wildcard Search with `instrument_name`"
   ]
  },
  {
   "cell_type": "markdown",
   "id": "6b80645c",
   "metadata": {},
   "source": [
    "For our first example we will search for all NIRISS observations taken by a certain proposal/program PI. Our two query criteria are `proposal_pi` and `instrument_name`, which are both `string` object criteria. As such, both can be wildcarded for ease of use. \n",
    "\n",
    "In fact, it is sometimes necessary to use wildcards when searching on `instrument_name`. Both HST and JWST use instrument configurations in this field to allow for more precise advanced searches (e.g. NIRISS/IMAGE and STIS/FUV-MAMA). When performing a \"generic\" search, you must include a wildcard or these more detailed results will be excluded.\n",
    "\n",
    "We will demonstrate this by looking at the results for the query below:"
   ]
  },
  {
   "cell_type": "code",
   "execution_count": null,
   "id": "c88ef2ed",
   "metadata": {
    "scrolled": true
   },
   "outputs": [],
   "source": [
    "observations = Observations.query_criteria(proposal_pi=\"Espinoza, Nestor\",\n",
    "                                           instrument_name=\"NIRISS*\")\n",
    "observations"
   ]
  },
  {
   "cell_type": "markdown",
   "id": "3eb7c273",
   "metadata": {},
   "source": [
    "Our query returned many NIRISS observations led by the PI Dr. Espinoza. Let's get all the unique values under the `instrument_name` column to see what our `*` wildcard picked up."
   ]
  },
  {
   "cell_type": "code",
   "execution_count": null,
   "id": "ffc1b58f",
   "metadata": {},
   "outputs": [],
   "source": [
    "set(observations['instrument_name'])"
   ]
  },
  {
   "cell_type": "markdown",
   "id": "34c9e95f",
   "metadata": {},
   "source": [
    "Our observations have the advanced labeling; had we simply set `instrument_name = \"NIRISS\"`, we would have missed several observations. For more details on this advanced labeling, see the [JWST Instrument Names page](https://outerspace.stsci.edu/display/MASTDOCS/JWST+Instrument+Names)."
   ]
  },
  {
   "cell_type": "markdown",
   "id": "a08f607f",
   "metadata": {},
   "source": [
    "#### A note of caution: There is such a thing as too many wildcards\n",
    "\n",
    "You can be too generous with the wildcards, so be sure to exercise caution in their use. Too much ambiguity can lead to unintended results. Let's take a look at our example below."
   ]
  },
  {
   "cell_type": "code",
   "execution_count": null,
   "id": "17d9194e",
   "metadata": {
    "scrolled": true
   },
   "outputs": [],
   "source": [
    "observations = Observations.query_criteria(proposal_pi='Espinoza, Nestor',\n",
    "                                           instrument_name='NIR*') # Surely only one instrument begins with 'NIR'\n",
    "set(observations['instrument_name'])"
   ]
  },
  {
   "cell_type": "markdown",
   "id": "e019a8e2",
   "metadata": {},
   "source": [
    "This query returns `NIRSPEC/SLIT` observations in addition to the NIRISS ones, which is not what we intended."
   ]
  },
  {
   "cell_type": "markdown",
   "id": "fefa0c07",
   "metadata": {},
   "source": [
    "<a id=\"case2\"></a>\n",
    "### Case 2: Wildcard Search with `instrument_name` and `proposal_id`"
   ]
  },
  {
   "cell_type": "markdown",
   "id": "99af085a",
   "metadata": {},
   "source": [
    "Let's add an additional `string` criterion and wildcard into the mix. We'll do this with the `proposal_id` field which, despite its numeric content, is encoded as a string.\n",
    "\n",
    "Let's query for a four digit proposal/program IDs that begin with `15`."
   ]
  },
  {
   "cell_type": "code",
   "execution_count": null,
   "id": "dd436c7d",
   "metadata": {},
   "outputs": [],
   "source": [
    "observations = Observations.query_criteria(proposal_pi='Espinoza, Nestor',\n",
    "                                           instrument_name='NIRISS*',\n",
    "                                           proposal_id=['15%%']) # Only a four digit result will match this\n",
    "\n",
    "set(observations['proposal_id']), set(observations['instrument_name'])"
   ]
  },
  {
   "cell_type": "markdown",
   "id": "9fcc9102",
   "metadata": {},
   "source": [
    "<a id=\"case3\"></a>\n",
    "### Case 3: Create a Moving Target Ephemeris using MAST Observations with Wildcard Search"
   ]
  },
  {
   "cell_type": "markdown",
   "id": "c38a4cdb",
   "metadata": {},
   "source": [
    "We will be querying for image observations of Comet 67P Churyumov-Gerasimenko observed through the Hubble Space Telescope's Advanced Camera for Surveys (ACS) Wide Field Camera (WFC). This comet's name can be listed in different ways, so we will use `*` wildcards in our criteria query."
   ]
  },
  {
   "cell_type": "code",
   "execution_count": null,
   "id": "a7cd9670",
   "metadata": {},
   "outputs": [],
   "source": [
    "observations = Observations.query_criteria(target_name=\"*67P*\",\n",
    "                                           instrument_name=\"ACS/WFC\")\n",
    "\n",
    "print(f\"{len(observations)} total observations\" + \"\\n\")\n",
    "print(\"Listed target names:\")\n",
    "print(set(observations['target_name']))"
   ]
  },
  {
   "cell_type": "markdown",
   "id": "5ed146c3",
   "metadata": {},
   "source": [
    "Above there are two names we get for Comet-67P. You should exercise caution when searching on the `target_name` criteria, since this is often entered by the PI who proposed the observation and can vary from person to person.\n",
    "\n",
    "In the remainder of this notebook, we will construct a bare-bones ephemeris using the filtered MAST observations of this object and their metadata. We will then do some reverse engineering to query for the target based on coordinates using the ephemeris table, and hope that we get the same results back! Let's begin:\n",
    "\n",
    "For simplicity, let's work only with the `'COMET-67P-CHURYUMOV-GERASIMENK'` observations to create our ephemeris."
   ]
  },
  {
   "cell_type": "code",
   "execution_count": null,
   "id": "a028e9e6",
   "metadata": {
    "scrolled": true,
    "tags": []
   },
   "outputs": [],
   "source": [
    "mask = observations[\"target_name\"] == \"COMET-67P-CHURYUMOV-GERASIMENK\"\n",
    "filtered_observations = observations[mask]\n",
    "filtered_observations"
   ]
  },
  {
   "cell_type": "markdown",
   "id": "ebdc42f6",
   "metadata": {},
   "source": [
    "Now that we have our filtered observations, let's sort the rows of this table based on the `t_min` criteria, which refers to the start time of the exposure in MJD."
   ]
  },
  {
   "cell_type": "code",
   "execution_count": null,
   "id": "5198bf11",
   "metadata": {},
   "outputs": [],
   "source": [
    "filtered_observations.sort(\"t_min\")"
   ]
  },
  {
   "cell_type": "markdown",
   "id": "dc840a0a",
   "metadata": {},
   "source": [
    "Now that we've sorted our table, let's construct a basic ephemeris showing the path of our object over time (with `t_min`, or exposure start in MJD, as our time component):"
   ]
  },
  {
   "cell_type": "code",
   "execution_count": null,
   "id": "cd4fca9a",
   "metadata": {},
   "outputs": [],
   "source": [
    "ephemeris = Table([filtered_observations[\"s_ra\"],\n",
    "                   filtered_observations[\"s_dec\"],\n",
    "                   filtered_observations[\"t_min\"]], names=(\"ra\", \"dec\", \"t_min\"))"
   ]
  },
  {
   "cell_type": "markdown",
   "id": "80b5f267",
   "metadata": {},
   "source": [
    "Let's display the contents of our ephemeris, and use it to generate a plot of the comet's path:"
   ]
  },
  {
   "cell_type": "code",
   "execution_count": null,
   "id": "40a7aedb",
   "metadata": {},
   "outputs": [],
   "source": [
    "ephemeris.sort(\"t_min\")\n",
    "ephemeris"
   ]
  },
  {
   "cell_type": "code",
   "execution_count": null,
   "id": "29d51f19",
   "metadata": {},
   "outputs": [],
   "source": [
    "plt.figure(figsize=(12,8))\n",
    "plt.scatter(ephemeris[0:18]['ra'], ephemeris[0:18]['dec'], color='royalblue', s=200, lw=1., edgecolor='k')\n",
    "\n",
    "plt.xlabel(\"Right Ascension (deg)\", fontsize=20)\n",
    "plt.ylabel(\"Declination (deg)\", fontsize=20)\n",
    "\n",
    "plt.title(\"Sky Coordinates\", fontsize=20)\n",
    "\n",
    "plt.xticks(fontsize=15)\n",
    "plt.yticks(fontsize=15)\n",
    "plt.grid()"
   ]
  },
  {
   "cell_type": "markdown",
   "id": "78e5b531",
   "metadata": {},
   "source": [
    "You can choose to save the ephemeris table in your current working directory by running the cell below:"
   ]
  },
  {
   "cell_type": "code",
   "execution_count": null,
   "id": "8763a7e9",
   "metadata": {},
   "outputs": [],
   "source": [
    "ephemeris.write('ephemeris-comet67p-cg.csv', format='ascii')  "
   ]
  },
  {
   "cell_type": "markdown",
   "id": "4b6fafaf",
   "metadata": {},
   "source": [
    "## Resources"
   ]
  },
  {
   "cell_type": "markdown",
   "id": "e1ce99f9",
   "metadata": {},
   "source": [
    "The following is a list of resources that were referenced throughout the tutorial, as well as some additional references that you may find useful:\n",
    "\n",
    "* [`astroquery.mast.Observation` criteria queries](https://astroquery.readthedocs.io/en/latest/mast/mast.html#observation-criteria-queries)\n",
    "* [JWST Instrument Names](https://outerspace.stsci.edu/display/MASTDOCS/JWST+Instrument+Names)"
   ]
  },
  {
   "cell_type": "markdown",
   "id": "55a71062",
   "metadata": {},
   "source": [
    "## Citations"
   ]
  },
  {
   "cell_type": "markdown",
   "id": "268da702",
   "metadata": {},
   "source": [
    "If you use any of astroquery's tools for published research, please cite the authors. Follow this link for more information about citing astroquery:\n",
    "\n",
    "* [Citing astroquery](https://github.com/astropy/astroquery/blob/main/astroquery/CITATION)"
   ]
  },
  {
   "cell_type": "markdown",
   "id": "79ab0efc",
   "metadata": {},
   "source": [
    "## About This Notebook"
   ]
  },
  {
   "cell_type": "markdown",
   "id": "bb9ce04c",
   "metadata": {},
   "source": [
    "If you have comments or questions on this notebook, please contact us through the Archive Help Desk e-mail at archive@stsci.edu. <br>\n",
    "<br>\n",
    "Author: Jenny V. Medina <br>\n",
    "Keywords: astroquery, wildcards, moving target <br>\n",
    "Last Updated: Jun 2023"
   ]
  }
 ],
 "metadata": {
  "kernelspec": {
   "display_name": "Python 3 (ipykernel)",
   "language": "python",
   "name": "python3"
  },
  "language_info": {
   "codemirror_mode": {
    "name": "ipython",
    "version": 3
   },
   "file_extension": ".py",
   "mimetype": "text/x-python",
   "name": "python",
   "nbconvert_exporter": "python",
   "pygments_lexer": "ipython3",
   "version": "3.11.5"
  }
 },
 "nbformat": 4,
 "nbformat_minor": 5
}
