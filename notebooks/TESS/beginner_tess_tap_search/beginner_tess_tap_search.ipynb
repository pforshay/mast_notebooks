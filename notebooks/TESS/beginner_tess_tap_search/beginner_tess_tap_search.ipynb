{
 "cells": [
  {
   "cell_type": "markdown",
   "metadata": {},
   "source": [
    "# Download MAST TESS Light Curves Within an FFI Footprint Using TAP"
   ]
  },
  {
   "cell_type": "markdown",
   "metadata": {},
   "source": [
    "<br> This notebook is a demo for accessing Transiting Exoplanet Survey Satellite (TESS) data in the Common Archive Observation Model (CAOM) catalog at MAST, using a Virtual Observatory standard Table Access Protocol (TAP) service.\n",
    "***\n",
    "### Table of Contents\n",
    "\n",
    "1. [TAP Service Introduction](#TAP-Service-Introduction)\n",
    "2. [Imports](#Imports)\n",
    "3. [Service Specific Configuration](#Service-Specific-Configuration)\n",
    "4. [Connecting to the TAP Service](#Connecting-to-the-TAP-Service)\n",
    "5. [Use Case: Getting light curves from a sector, camera, and chip](#Use-Case:-Getting-images-from-a-sector,-camera,-and-chip)\n",
    "    - [Step 1: Getting the footprint](#Step-1:-Getting-the-footprint)\n",
    "    - [Step 2: Getting an inventory of TESS lightcurves within the footprint](#Step-2:-Getting-an-inventory-of-TESS-lightcurves-within-the-footprint)\n",
    "5. [Additional Resources](#Additional-Resources)\n",
    "6. [About This Notebook](#About-this-Notebook)\n",
    "***"
   ]
  },
  {
   "cell_type": "markdown",
   "metadata": {},
   "source": [
    "## TAP Service Introduction"
   ]
  },
  {
   "cell_type": "markdown",
   "metadata": {},
   "source": [
    "Table Access Protocol (TAP) services allow more direct and flexible access to astronomical data than the simpler types of IVOA standard data services. Queries are built with the SQL-like Astronomical Data Query Language (ADQL), and can include geographic / spatial queries as well as filtering on other characteristics of the data. This also allows the user fine-grained control over the returned columns, unlike the fixed set of coumns retunred from cone, image, and spectral services.\n",
    "\n",
    "For this example, we'll be using the astropy affiliated PyVO client, which is interoperable with other valid TAP services, including those at MAST. PyVO documentation is available at ReadTheDocs: https://pyvo.readthedocs.io\n",
    "\n",
    "We'll be using PyVO to call the CAOM Catalog TAP service at MAST and filter the results for TESS-related information. The schema for this catalog is an IVOA standard, and is also described within the service itself."
   ]
  },
  {
   "cell_type": "markdown",
   "metadata": {},
   "source": [
    "***\n",
    "## Imports"
   ]
  },
  {
   "cell_type": "code",
   "execution_count": 1,
   "metadata": {
    "execution": {
     "iopub.execute_input": "2023-08-22T14:48:55.708163Z",
     "iopub.status.busy": "2023-08-22T14:48:55.707738Z",
     "iopub.status.idle": "2023-08-22T14:48:56.431100Z",
     "shell.execute_reply": "2023-08-22T14:48:56.430249Z"
    }
   },
   "outputs": [],
   "source": [
    "# Use the pyvo library as our client to the data service.\n",
    "import pyvo as vo\n",
    "\n",
    "# For handling ordinary astropy Tables in responses\n",
    "from astropy.table import Table\n",
    "\n",
    "# For displaying and manipulating some types of results\n",
    "import requests\n",
    "import astropy\n",
    "import time\n",
    "\n",
    "# To allow display tweaks for wider response tables\n",
    "from IPython.display import display\n",
    "from IPython.core.display import HTML\n",
    "\n",
    "# suppress unimportant unit warnings from many TAP services\n",
    "import warnings\n",
    "warnings.filterwarnings(\"ignore\", module=\"astropy.io.votable.*\")\n",
    "warnings.filterwarnings(\"ignore\", module=\"pyvo.utils.xml.elements\")\n",
    "warnings.filterwarnings(\"ignore\", module=\"pyvo.io.vosi.vodataservice\")"
   ]
  },
  {
   "cell_type": "markdown",
   "metadata": {},
   "source": [
    "## Service Specific Configuration\n",
    "\n",
    "Every TAP service has a \"Base URL\" plus associated endpoints for synchronous and asynchronous queries, as well as status and capability information, and sometimes service-provided sample queries. The endpoints are predefined in the TAP standard, so clients can infer them using the base. We therefore only have to provide astroquery that base."
   ]
  },
  {
   "cell_type": "code",
   "execution_count": 2,
   "metadata": {
    "execution": {
     "iopub.execute_input": "2023-08-22T14:48:56.435249Z",
     "iopub.status.busy": "2023-08-22T14:48:56.434978Z",
     "iopub.status.idle": "2023-08-22T14:48:56.439250Z",
     "shell.execute_reply": "2023-08-22T14:48:56.438553Z"
    }
   },
   "outputs": [],
   "source": [
    "TAP_URL = \"https://vao.stsci.edu/caomtap/tapservice.aspx\""
   ]
  },
  {
   "cell_type": "markdown",
   "metadata": {},
   "source": [
    "## Connecting to the TAP Service\n",
    "\n",
    "The PyVO library is able to connect to any TAP service, given the \"base\" URL as noted in metadata registry resources describing the service. The CAOM TAP service at MAST has access to TESS FFI and time series, including file URLs for download."
   ]
  },
  {
   "cell_type": "code",
   "execution_count": 3,
   "metadata": {
    "execution": {
     "iopub.execute_input": "2023-08-22T14:48:56.442191Z",
     "iopub.status.busy": "2023-08-22T14:48:56.441813Z",
     "iopub.status.idle": "2023-08-22T14:48:56.814240Z",
     "shell.execute_reply": "2023-08-22T14:48:56.813481Z"
    }
   },
   "outputs": [
    {
     "name": "stdout",
     "output_type": "stream",
     "text": [
      "Capability ivo://ivoa.net/std/TAP\n",
      "\n",
      "Interface None\n",
      "    http://vao.stsci.edu/caomtap/tapservice.aspx\n",
      "\n",
      "Datamodel ObsCore#core-1.1\n",
      "    ivo://ivoa.net/std/ObsCore#core-1.1\n",
      "\n",
      "Language ADQL\n",
      "    ivo://ivoa.net/std/TAPRegExt#features-adqlgeo\n",
      "        BOX\n",
      "\n",
      "        POINT\n",
      "\n",
      "        CIRCLE\n",
      "\n",
      "        POLYGON\n",
      "\n",
      "        CONTAINS\n",
      "\n",
      "\n",
      "Output format application/x-votable+xml\n",
      "    Also available as votable\n",
      "\n",
      "Output format text/csv;header=present\n",
      "    Also available as csv\n",
      "\n",
      "\n",
      "Capability ivo://ivoa.net/std/DALI#examples-1.0\n",
      "\n",
      "Interface vr:WebBrowser\n",
      "    http://vao.stsci.edu/caomtap/tapservice.aspx/examples\n",
      "\n",
      "\n"
     ]
    }
   ],
   "source": [
    "TAP_service = vo.dal.TAPService(TAP_URL)\n",
    "TAP_service.describe()"
   ]
  },
  {
   "cell_type": "markdown",
   "metadata": {},
   "source": [
    "### List available tables"
   ]
  },
  {
   "cell_type": "code",
   "execution_count": 4,
   "metadata": {
    "execution": {
     "iopub.execute_input": "2023-08-22T14:48:56.861609Z",
     "iopub.status.busy": "2023-08-22T14:48:56.860857Z",
     "iopub.status.idle": "2023-08-22T14:48:56.867725Z",
     "shell.execute_reply": "2023-08-22T14:48:56.867144Z"
    }
   },
   "outputs": [
    {
     "name": "stdout",
     "output_type": "stream",
     "text": [
      "ivoa.obscore\n",
      "    The IVOA-defined obscore table, version 1.1, containing generic metadata for datasets within this datacenter's CAOM database.\n",
      "\n",
      "Columns=['access_estsize', 'access_format', 'access_url', 'calib_level', 'dataproduct_type', 'em_max', 'em_min', 'em_res_power', 'em_xel', 'facility_name', 'instrument_name', 'o_ucd', 'obs_collection', 'obs_id', 'obs_publisher_did', 'pol_states', 'pol_xel', 's_dec', 's_fov', 's_ra', 's_region', 's_resolution', 's_xel1', 's_xel2', 't_exptime', 't_max', 't_min', 't_resolution', 't_xel', 'target_name']\n",
      "----\n",
      "dbo.CaomObservation\n",
      "    An observation is the primary top-level class for empirical data.\n",
      "\n",
      "Columns=['accMetaChecksum', 'algName', 'collection', 'envAmbientTemp', 'envElevation', 'envHumidity', 'envPhotometric', 'envSeeing', 'envTau', 'envWavelengthTau', 'id', 'insKeywords', 'insName', 'intent', 'lastModified', 'linked', 'maxLastModified', 'maxLevel', 'metaChecksum', 'metaDataRights', 'metaProducer', 'metaReadGroups', 'metaRelease', 'nObs', 'obsType', 'observationID', 'observationTID', 'prpID', 'prpKeywords', 'prpPI', 'prpProject', 'prpTitle', 'recordCreated', 'recordModified', 'reqFlag', 'sequenceNumber', 'tlsGeoLocationX', 'tlsGeoLocationY', 'tlsGeoLocationZ', 'tlsKeywords', 'tlsName', 'trgClassification', 'trgID', 'trgKeywords', 'trgMoving', 'trgName', 'trgPosCoordSys', 'trgPosDec', 'trgPosEquinox', 'trgPosRA', 'trgRedshift', 'trgStandard', 'trgType', 'type']\n",
      "----\n",
      "dbo.CaomPlane\n",
      "    A plane is one (of several) data product(s) that are created as part of an observation. Each simple observation typically has one raw plane created by the observing process itself and may have one or more additional planes that are produced by subsequent data processing.\n",
      "\n",
      "Columns=['accMetaChecksum', 'calibrationLevel', 'collection', 'creatorID', 'cstCtype', 'cstDimension', 'cstLower', 'cstUpper', 'dataProductType', 'dataReadGroups', 'dataRelease', 'dataRights', 'dqFlag', 'enrBandpassName', 'enrBoundsSTCS', 'enrDimension', 'enrEMBand', 'enrMax', 'enrMin', 'enrResolvingPower', 'enrResolvingPowerLower', 'enrResolvingPowerUpper', 'enrRestWavelength', 'enrSampleSize', 'enrTransition', 'id', 'lastModified', 'maxLastModified', 'metaChecksum', 'metaDataRights', 'metaProducer', 'metaReadGroups', 'metaRelease', 'midExpDate', 'mtrBackground', 'mtrBackgroundStdDev', 'mtrFluxDensityLimit', 'mtrMagLimit', 'mtrSampleSNR', 'mtrSourceNumberDensity', 'obsUCD', 'observationTID', 'observationUUID', 'planeTID', 'plrDimension', 'plrState', 'posBoundsSTCS', 'posDimension1', 'posDimension2', 'posResolution', 'posResolutionLower', 'posResolutionUpper', 'posSampleSize', 'posTimeDependant', 'previewURI', 'productID', 'productURI', 'prvInputs', 'prvKeywords', 'prvLastExecuted', 'prvName', 'prvProducer', 'prvProject', 'prvReference', 'prvRunID', 'prvVersion', 'recordCreated', 'recordModified', 'releaseDate', 'timBoundsSTCS', 'timDimension', 'timExposure', 'timMax', 'timMin', 'timResolution', 'timResolutionLower', 'timResolutionUpper', 'timSampleSize']\n",
      "----\n",
      "dbo.CaomArtifact\n",
      "    An artifact is one physical product or resource (typically a file) that is part of a plane.\n",
      "\n",
      "Columns=['accMetaChecksum', 'artifactTID', 'collection', 'contentChecksum', 'contentLength', 'contentReadGroups', 'contentRelease', 'contentRights', 'contentType', 'creationDate', 'dataURI', 'id', 'lastModified', 'maxLastModified', 'metaChecksum', 'metaProducer', 'planeTID', 'planeUUID', 'productFilename', 'productType', 'recordCreated', 'recordModified', 'releaseType']\n",
      "----\n",
      "dbo.CaomPart\n",
      "    A part is format-specific name; this is typically something like a FITS extension or a file within a container\n",
      "\n",
      "Columns=['accMetaChecksum', 'artifactTID', 'artifactUUID', 'collection', 'id', 'lastModified', 'maxLastModified', 'metaChecksum', 'metaProducer', 'name', 'partTID', 'productType', 'recordCreated', 'recordModified']\n",
      "----\n",
      "dbo.CaomChunk\n",
      "    A chunk is a quantitatively defined subsection of a data array; the part contains the whole array\n",
      "\n",
      "Columns=['accMetaChecksum', 'chunkTID', 'collection', 'cstwcsCRPIX', 'cstwcsCRVAL', 'cstwcsCTYPE', 'cstwcsCUNIT', 'cstwcsDELTA', 'cstwcsNAXIS', 'cstwcsRNDER', 'cstwcsRangeEndPix', 'cstwcsRangeEndVal', 'cstwcsRangeStartPix', 'cstwcsRangeStartVal', 'cstwcsSYSER', 'customAxis', 'energyAxis', 'enrwcsBandpassname', 'enrwcsCRPIX', 'enrwcsCRVAL', 'enrwcsCTYPE', 'enrwcsCUNIT', 'enrwcsDELTA', 'enrwcsNAXIS', 'enrwcsRNDER', 'enrwcsRangeEndPix', 'enrwcsRangeEndVal', 'enrwcsRangeStartPix', 'enrwcsRangeStartVal', 'enrwcsResolvingpower', 'enrwcsRestfrq', 'enrwcsRestwav', 'enrwcsSYSER', 'enrwcsSpecSys', 'enrwcsSsysobs', 'enrwcsSsyssrc', 'enrwcsTransition', 'enrwcsVelang', 'enrwcsVelosys', 'enrwcsZsource', 'id', 'lastModified', 'maxLastModified', 'metaChecksum', 'metaProducer', 'naxis', 'observableAxis', 'obxDepBin', 'obxDepCTYPE', 'obxDepCUNIT', 'obxIndBin', 'obxIndCTYPE', 'obxIndCUNIT', 'partTID', 'partUUID', 'plrwcsCRPIX', 'plrwcsCRVAL', 'plrwcsCTYPE', 'plrwcsCUNIT', 'plrwcsDELTA', 'plrwcsNAXIS', 'plrwcsRNDER', 'plrwcsRangeEndPix', 'plrwcsRangeEndVal', 'plrwcsRangeStartPix', 'plrwcsRangeStartVal', 'plrwcsSYSER', 'polarizationAxis', 'positionAxis1', 'positionAxis2', 'poswcsCD11', 'poswcsCD12', 'poswcsCD21', 'poswcsCD22', 'poswcsCRPIX1', 'poswcsCRPIX2', 'poswcsCRVAL1', 'poswcsCRVAL2', 'poswcsCTYPE1', 'poswcsCTYPE2', 'poswcsCUNIT1', 'poswcsCUNIT2', 'poswcsCoordSys', 'poswcsEquinox', 'poswcsNAXIS1', 'poswcsNAXIS2', 'poswcsRNDER1', 'poswcsRNDER2', 'poswcsRangeEndPix1', 'poswcsRangeEndPix2', 'poswcsRangeEndVal1', 'poswcsRangeEndVal2', 'poswcsRangeStartPix1', 'poswcsRangeStartPix2', 'poswcsRangeStartVal1', 'poswcsRangeStartVal2', 'poswcsResolution', 'poswcsSYSER1', 'poswcsSYSER2', 'productType', 'recordCreated', 'recordModified', 'timeAxis', 'timwcsCRPIX', 'timwcsCRVAL', 'timwcsCTYPE', 'timwcsCUNIT', 'timwcsDELTA', 'timwcsExposure', 'timwcsMJDref', 'timwcsNAXIS', 'timwcsRNDER', 'timwcsRangeEndPix', 'timwcsRangeEndVal', 'timwcsRangeStartPix', 'timwcsRangeStartVal', 'timwcsResolution', 'timwcsSYSER', 'timwcsTimeSys', 'timwcsTrefpos']\n",
      "----\n",
      "dbo.CaomMembers\n",
      "    members of a composite observation.\n",
      "\n",
      "Columns=['DerivedTID', 'SimpleTID', 'collection', 'recordCreated', 'recordModified']\n",
      "----\n",
      "dbo.MastLinks\n",
      "    members of a linked observation.\n",
      "\n",
      "Columns=['collection', 'linkCollection', 'linkTID', 'linkType', 'obsTID', 'recordCreated', 'recordModified']\n",
      "----\n",
      "dbo.MASTproductDescription\n",
      "    descriptions and documentation for projects\n",
      "\n",
      "Columns=['contentType', 'description', 'documentationURL', 'groupDescription', 'mission', 'productType', 'project', 'subGroupDescription', 'typeID']\n",
      "----\n",
      "dbo.ObsPointing\n",
      "    A view for science observations. This returns equivalent data to a Portal search. Wavelength scale, dates, and target keywords have been adjusted from the main Caom table data.\n",
      "\n",
      "Columns=['calib_level', 'dataProduct_Type', 'dataRights', 'dataURL', 'em_max', 'em_min', 'filters', 'instrument_name', 'intentType', 'jpegURL', 'mtFlag', 'objID', 'obsID', 'obs_collection', 'obs_id', 'obs_title', 'project', 'proposal_id', 'proposal_pi', 'proposal_type', 'provenance_name', 's_dec', 's_ra', 's_region', 'sequence_number', 'srcDen', 't_exptime', 't_max', 't_min', 't_obs_release', 'target_classification', 'target_name', 'wavelength_region']\n",
      "----\n",
      "dbo.CalPointing\n",
      "    A view for calibration observations. Wavelength scale, dates, and target keywords have been adjusted from the main Caom table data.\n",
      "\n",
      "Columns=['calib_level', 'dataProduct_Type', 'dataRights', 'dataURL', 'em_max', 'em_min', 'filters', 'instrument_name', 'intentType', 'jpegURL', 'mtFlag', 'objID', 'obsID', 'obs_collection', 'obs_id', 'obs_title', 'project', 'proposal_id', 'proposal_pi', 'proposal_type', 'provenance_name', 's_dec', 's_ra', 's_region', 'sequence_number', 'srcDen', 't_exptime', 't_max', 't_min', 't_obs_release', 'target_classification', 'target_name', 'wavelength_region']\n",
      "----\n",
      "dbo.AllPointing\n",
      "    A view for ALL observations. Wavelength scale, dates, and target keywords have been adjusted from the main Caom table data.\n",
      "\n",
      "Columns=['calib_level', 'dataProduct_Type', 'dataRights', 'dataURL', 'em_max', 'em_min', 'filters', 'instrument_name', 'intentType', 'jpegURL', 'mtFlag', 'objID', 'obsID', 'obs_collection', 'obs_id', 'obs_title', 'project', 'proposal_id', 'proposal_pi', 'proposal_type', 'provenance_name', 's_dec', 's_ra', 's_region', 'sequence_number', 'srcDen', 't_exptime', 't_max', 't_min', 't_obs_release', 'target_classification', 'target_name', 'wavelength_region']\n",
      "----\n"
     ]
    }
   ],
   "source": [
    "TAP_tables = TAP_service.tables\n",
    "for tablename in TAP_tables.keys():\n",
    "    if not \"tap_schema\" in tablename:  \n",
    "        TAP_tables[tablename].describe()\n",
    "        print(\"Columns={}\".format(sorted([k.name for k in TAP_tables[tablename].columns ])))\n",
    "        print(\"----\")"
   ]
  },
  {
   "cell_type": "markdown",
   "metadata": {},
   "source": [
    "## Use Case: Getting images from a sector, camera, and chip"
   ]
  },
  {
   "cell_type": "markdown",
   "metadata": {},
   "source": [
    "### Step 1: Getting the footprint\n",
    "\n",
    "For our purposes, any one footprint related to a sector, camera, and chip combination is good enough. We are not currently accounting for small movements of the spacecraft to form a composite footprint. Observation IDs for this mission are constructed based on sector, camera, and chip combination, and we can use this to launch our footprint search:"
   ]
  },
  {
   "cell_type": "code",
   "execution_count": 5,
   "metadata": {
    "execution": {
     "iopub.execute_input": "2023-08-22T14:48:56.871492Z",
     "iopub.status.busy": "2023-08-22T14:48:56.871078Z",
     "iopub.status.idle": "2023-08-22T14:48:56.874911Z",
     "shell.execute_reply": "2023-08-22T14:48:56.874212Z"
    }
   },
   "outputs": [],
   "source": [
    "sector = '1'\n",
    "camera = '1'\n",
    "chip = '2'\n",
    "observationIDwildcard = 'tess%-s000{}-{}-{}-%-s'.format(sector, camera, chip)"
   ]
  },
  {
   "cell_type": "markdown",
   "metadata": {},
   "source": [
    "Here we query for a single ID and footprint to start with. For filters, we use the TESS mission, target types associated with light curves instead of full frame images, and the sector number. Note that the sector ID (sequence number) is in a different table in the CAOM database than most of the metadata we want, so we have to join these tables based on the shared observation ID.\n",
    "\n",
    "This query uses an asynchronous job with longer timeouts in case of connection issues."
   ]
  },
  {
   "cell_type": "code",
   "execution_count": 6,
   "metadata": {
    "execution": {
     "iopub.execute_input": "2023-08-22T14:48:56.878203Z",
     "iopub.status.busy": "2023-08-22T14:48:56.877738Z",
     "iopub.status.idle": "2023-08-22T14:49:07.909156Z",
     "shell.execute_reply": "2023-08-22T14:49:07.908410Z"
    }
   },
   "outputs": [
    {
     "data": {
      "text/html": [
       "<div><i>Table length=1</i>\n",
       "<table id=\"table139813991098832\" class=\"table-striped table-bordered table-condensed\">\n",
       "<thead><tr><th>obs_id</th><th>s_region</th></tr></thead>\n",
       "<thead><tr><th>object</th><th>object</th></tr></thead>\n",
       "<tr><td>tess2018206192942-s0001-1-2-0120-s</td><td>POLYGON 330.343781 -44.336357 324.663695 -33.277694 337.720618 -28.384546 344.128672 -38.561645 330.343781 -44.336357</td></tr>\n",
       "</table></div>"
      ],
      "text/plain": [
       "<Table length=1>\n",
       "              obs_id               ...\n",
       "              object               ...\n",
       "---------------------------------- ...\n",
       "tess2018206192942-s0001-1-2-0120-s ..."
      ]
     },
     "execution_count": 6,
     "metadata": {},
     "output_type": "execute_result"
    }
   ],
   "source": [
    "job = TAP_service.run_async(f\"\"\"\n",
    "            SELECT top 1 obs_id, s_region  \n",
    "            FROM dbo.caomobservation JOIN ivoa.obscore on dbo.caomobservation.observationID = ivoa.obscore.obs_id \n",
    "            WHERE collection = 'TESS' and trgType = 'FIELD' and \n",
    "            sequenceNumber = {sector} and\n",
    "            observationID like '{observationIDwildcard}'\n",
    "            \"\"\")\n",
    "\n",
    "footprint_results = job.to_table()\n",
    "footprint_results"
   ]
  },
  {
   "cell_type": "markdown",
   "metadata": {},
   "source": [
    "### Step 2: Getting an inventory of TESS lightcurves within the footprint"
   ]
  },
  {
   "cell_type": "markdown",
   "metadata": {},
   "source": [
    "Here we take the footprint from the above query and find all lightcurves intersecting with this footprint, in ALL sectors. Depending on where this is in the sky, there could be responses only in the original sector, or there could be overlaps with other sectors. There would be more sector overlap near the poles, for instance. By filtering on obs_collection = TESS, we filter based on the TESS mission and exclude High Level Science Products (including those based on TESS).\n",
    "\n",
    "The format must be reformatted for our next query. We separate the shape from the list of vertices, which themselves must be comma-separated."
   ]
  },
  {
   "cell_type": "code",
   "execution_count": 7,
   "metadata": {
    "execution": {
     "iopub.execute_input": "2023-08-22T14:49:07.912415Z",
     "iopub.status.busy": "2023-08-22T14:49:07.912026Z",
     "iopub.status.idle": "2023-08-22T14:49:07.916865Z",
     "shell.execute_reply": "2023-08-22T14:49:07.916209Z"
    }
   },
   "outputs": [
    {
     "name": "stdout",
     "output_type": "stream",
     "text": [
      "POLYGON\n",
      "330.343781, -44.336357, 324.663695, -33.277694, 337.720618, -28.384546, 344.128672, -38.561645, 330.343781, -44.336357\n"
     ]
    }
   ],
   "source": [
    "footprint = footprint_results['s_region'][0]\n",
    "footprintShape = footprint[0:footprint.find(' ')]\n",
    "footprintVertices = footprint[footprint.find(' '):].strip().replace(' ', ', ')\n",
    "\n",
    "print(footprintShape)\n",
    "print(footprintVertices)"
   ]
  },
  {
   "cell_type": "markdown",
   "metadata": {},
   "source": [
    "Once the footprint has been isolated and reformatted, we perform another query listing all lightcurves (minus the data validation timeseries, whose files end in _dvt) by their target name, sector, RA and Dec, as well as returning the access url for each FITS file and its estimated file size. We are doing this as an asynchronous query, which handles longer response times, just in case."
   ]
  },
  {
   "cell_type": "code",
   "execution_count": 8,
   "metadata": {
    "execution": {
     "iopub.execute_input": "2023-08-22T14:49:07.920640Z",
     "iopub.status.busy": "2023-08-22T14:49:07.920223Z",
     "iopub.status.idle": "2023-08-22T14:50:19.513112Z",
     "shell.execute_reply": "2023-08-22T14:50:19.512248Z"
    }
   },
   "outputs": [
    {
     "data": {
      "text/html": [
       "<div><i>Table length=1912</i>\n",
       "<table id=\"table139813279863824\" class=\"table-striped table-bordered table-condensed\">\n",
       "<thead><tr><th>target_name</th><th>sector</th><th>s_ra</th><th>s_dec</th><th>access_url</th><th>access_estsize</th><th>obs_id</th></tr></thead>\n",
       "<thead><tr><th></th><th></th><th>deg</th><th>deg</th><th></th><th>kbyte</th><th></th></tr></thead>\n",
       "<thead><tr><th>object</th><th>int32</th><th>float64</th><th>float64</th><th>object</th><th>int64</th><th>object</th></tr></thead>\n",
       "<tr><td>60110897</td><td>1</td><td>333.611092049931</td><td>-34.1474539447427</td><td>https://mast.stsci.edu/portal/Download/file?uri=mast:TESS/product/tess2018206045859-s0001-0000000060110897-0120-s_lc.fits</td><td>2039040</td><td>tess2018206045859-s0001-0000000060110897-0120-s</td></tr>\n",
       "<tr><td>60111044</td><td>1</td><td>333.645004280576</td><td>-32.3082644286201</td><td>https://mast.stsci.edu/portal/Download/file?uri=mast:TESS/product/tess2018206045859-s0001-0000000060111044-0120-s_lc.fits</td><td>2039040</td><td>tess2018206045859-s0001-0000000060111044-0120-s</td></tr>\n",
       "<tr><td>60111124</td><td>1</td><td>333.709133469947</td><td>-31.2369654902247</td><td>https://mast.stsci.edu/portal/Download/file?uri=mast:TESS/product/tess2018206045859-s0001-0000000060111124-0120-s_lc.fits</td><td>2039040</td><td>tess2018206045859-s0001-0000000060111124-0120-s</td></tr>\n",
       "<tr><td>60111195</td><td>1</td><td>333.743914416813</td><td>-30.4163228673023</td><td>https://mast.stsci.edu/portal/Download/file?uri=mast:TESS/product/tess2018206045859-s0001-0000000060111195-0120-s_lc.fits</td><td>2039040</td><td>tess2018206045859-s0001-0000000060111195-0120-s</td></tr>\n",
       "<tr><td>60111206</td><td>1</td><td>333.728257472536</td><td>-30.3226536580254</td><td>https://mast.stsci.edu/portal/Download/file?uri=mast:TESS/product/tess2018206045859-s0001-0000000060111206-0120-s_lc.fits</td><td>2039040</td><td>tess2018206045859-s0001-0000000060111206-0120-s</td></tr>\n",
       "<tr><td>60112433</td><td>1</td><td>333.470951231467</td><td>-34.7598204527287</td><td>https://mast.stsci.edu/portal/Download/file?uri=mast:TESS/product/tess2018206045859-s0001-0000000060112433-0120-s_lc.fits</td><td>2039040</td><td>tess2018206045859-s0001-0000000060112433-0120-s</td></tr>\n",
       "<tr><td>60112451</td><td>1</td><td>333.547377436129</td><td>-34.6817596173526</td><td>https://mast.stsci.edu/portal/Download/file?uri=mast:TESS/product/tess2018206045859-s0001-0000000060112451-0120-s_lc.fits</td><td>2039040</td><td>tess2018206045859-s0001-0000000060112451-0120-s</td></tr>\n",
       "<tr><td>60112490</td><td>1</td><td>333.482493702655</td><td>-34.0636720281529</td><td>https://mast.stsci.edu/portal/Download/file?uri=mast:TESS/product/tess2018206045859-s0001-0000000060112490-0120-s_lc.fits</td><td>2039040</td><td>tess2018206045859-s0001-0000000060112490-0120-s</td></tr>\n",
       "<tr><td>60112659</td><td>1</td><td>333.65931</td><td>-32.206633</td><td>https://mast.stsci.edu/portal/Download/file?uri=mast:TESS/product/tess2018206045859-s0001-0000000060112659-0120-s_lc.fits</td><td>2039040</td><td>tess2018206045859-s0001-0000000060112659-0120-s</td></tr>\n",
       "<tr><td>...</td><td>...</td><td>...</td><td>...</td><td>...</td><td>...</td><td>...</td></tr>\n",
       "<tr><td>2028055326</td><td>28</td><td>337.818820819488</td><td>-32.5668172005661</td><td>https://mast.stsci.edu/portal/Download/file?uri=mast:TESS/product/tess2020212050318-s0028-0000002028055326-0190-s_lc.fits</td><td>1848960</td><td>tess2020212050318-s0028-0000002028055326-0190-s</td></tr>\n",
       "<tr><td>2028057810</td><td>28</td><td>338.745193873078</td><td>-31.6823331840602</td><td>https://mast.stsci.edu/portal/Download/file?uri=mast:TESS/product/tess2020212050318-s0028-0000002028057810-0190-s_lc.fits</td><td>1848960</td><td>tess2020212050318-s0028-0000002028057810-0190-s</td></tr>\n",
       "<tr><td>2028059160</td><td>28</td><td>336.392517757359</td><td>-33.3038792344976</td><td>https://mast.stsci.edu/portal/Download/file?uri=mast:TESS/product/tess2020212050318-s0028-0000002028059160-0190-s_lc.fits</td><td>1848960</td><td>tess2020212050318-s0028-0000002028059160-0190-s</td></tr>\n",
       "<tr><td>2028060065</td><td>28</td><td>336.261887532027</td><td>-33.2045953392606</td><td>https://mast.stsci.edu/portal/Download/file?uri=mast:TESS/product/tess2020212050318-s0028-0000002028060065-0190-s_lc.fits</td><td>1848960</td><td>tess2020212050318-s0028-0000002028060065-0190-s</td></tr>\n",
       "<tr><td>2028068877</td><td>28</td><td>337.704351453942</td><td>-32.5255698594582</td><td>https://mast.stsci.edu/portal/Download/file?uri=mast:TESS/product/tess2020212050318-s0028-0000002028068877-0190-s_lc.fits</td><td>1848960</td><td>tess2020212050318-s0028-0000002028068877-0190-s</td></tr>\n",
       "<tr><td>2028124757</td><td>28</td><td>332.013303076683</td><td>-32.466625933453</td><td>https://mast.stsci.edu/portal/Download/file?uri=mast:TESS/product/tess2020212050318-s0028-0000002028124757-0190-s_lc.fits</td><td>1848960</td><td>tess2020212050318-s0028-0000002028124757-0190-s</td></tr>\n",
       "<tr><td>2028141165</td><td>28</td><td>335.194739242835</td><td>-31.0281287950649</td><td>https://mast.stsci.edu/portal/Download/file?uri=mast:TESS/product/tess2020212050318-s0028-0000002028141165-0190-s_lc.fits</td><td>1848960</td><td>tess2020212050318-s0028-0000002028141165-0190-s</td></tr>\n",
       "<tr><td>2028274342</td><td>28</td><td>338.129868257175</td><td>-29.2938537676958</td><td>https://mast.stsci.edu/portal/Download/file?uri=mast:TESS/product/tess2020212050318-s0028-0000002028274342-0190-s_lc.fits</td><td>1848960</td><td>tess2020212050318-s0028-0000002028274342-0190-s</td></tr>\n",
       "<tr><td>2055849046</td><td>28</td><td>342.169088976808</td><td>-38.5063906736461</td><td>https://mast.stsci.edu/portal/Download/file?uri=mast:TESS/product/tess2020212050318-s0028-0000002055849046-0190-s_lc.fits</td><td>1848960</td><td>tess2020212050318-s0028-0000002055849046-0190-s</td></tr>\n",
       "<tr><td>2055851933</td><td>28</td><td>341.82873775014</td><td>-38.4809779865227</td><td>https://mast.stsci.edu/portal/Download/file?uri=mast:TESS/product/tess2020212050318-s0028-0000002055851933-0190-s_lc.fits</td><td>1848960</td><td>tess2020212050318-s0028-0000002055851933-0190-s</td></tr>\n",
       "</table></div>"
      ],
      "text/plain": [
       "<Table length=1912>\n",
       "target_name sector ...                      obs_id                    \n",
       "                   ...                                                \n",
       "   object   int32  ...                      object                    \n",
       "----------- ------ ... -----------------------------------------------\n",
       "   60110897      1 ... tess2018206045859-s0001-0000000060110897-0120-s\n",
       "   60111044      1 ... tess2018206045859-s0001-0000000060111044-0120-s\n",
       "   60111124      1 ... tess2018206045859-s0001-0000000060111124-0120-s\n",
       "   60111195      1 ... tess2018206045859-s0001-0000000060111195-0120-s\n",
       "   60111206      1 ... tess2018206045859-s0001-0000000060111206-0120-s\n",
       "   60112433      1 ... tess2018206045859-s0001-0000000060112433-0120-s\n",
       "   60112451      1 ... tess2018206045859-s0001-0000000060112451-0120-s\n",
       "   60112490      1 ... tess2018206045859-s0001-0000000060112490-0120-s\n",
       "   60112659      1 ... tess2018206045859-s0001-0000000060112659-0120-s\n",
       "        ...    ... ...                                             ...\n",
       " 2028055326     28 ... tess2020212050318-s0028-0000002028055326-0190-s\n",
       " 2028057810     28 ... tess2020212050318-s0028-0000002028057810-0190-s\n",
       " 2028059160     28 ... tess2020212050318-s0028-0000002028059160-0190-s\n",
       " 2028060065     28 ... tess2020212050318-s0028-0000002028060065-0190-s\n",
       " 2028068877     28 ... tess2020212050318-s0028-0000002028068877-0190-s\n",
       " 2028124757     28 ... tess2020212050318-s0028-0000002028124757-0190-s\n",
       " 2028141165     28 ... tess2020212050318-s0028-0000002028141165-0190-s\n",
       " 2028274342     28 ... tess2020212050318-s0028-0000002028274342-0190-s\n",
       " 2055849046     28 ... tess2020212050318-s0028-0000002055849046-0190-s\n",
       " 2055851933     28 ... tess2020212050318-s0028-0000002055851933-0190-s"
      ]
     },
     "execution_count": 8,
     "metadata": {},
     "output_type": "execute_result"
    }
   ],
   "source": [
    "job = TAP_service.run_async(\"\"\"\n",
    "            SELECT target_name, sequenceNumber as sector, s_ra, s_dec, access_url, access_estsize, obs_id \n",
    "            FROM dbo.caomobservation JOIN ivoa.obscore on dbo.caomobservation.observationID = ivoa.obscore.obs_id \n",
    "            WHERE \n",
    "            obs_collection = 'TESS' and dataproduct_type = 'timeseries' \n",
    "            and access_url like '%lc.fits' and \n",
    "            CONTAINS(POINT('ICRS',s_ra,s_dec),{}('ICRS', {}))=1\n",
    "            ORDER BY obs_id\n",
    "            \"\"\".format(footprintShape, footprintVertices))\n",
    "\n",
    "TAP_results = job.to_table()\n",
    "TAP_results          "
   ]
  },
  {
   "cell_type": "markdown",
   "metadata": {},
   "source": [
    "The returned data is in an astropy table; you can manipulate it to do more ordering or filtering. To download individual files or the whole set, you can use the <i>access_url</i> column, as below.\n",
    "\n",
    "Python's requests library lets you download files from a URL. The downloads will appear in the directory where your notebook is running."
   ]
  },
  {
   "cell_type": "code",
   "execution_count": 9,
   "metadata": {
    "execution": {
     "iopub.execute_input": "2023-08-22T14:50:19.520347Z",
     "iopub.status.busy": "2023-08-22T14:50:19.519928Z",
     "iopub.status.idle": "2023-08-22T14:50:19.889583Z",
     "shell.execute_reply": "2023-08-22T14:50:19.888965Z"
    }
   },
   "outputs": [
    {
     "name": "stdout",
     "output_type": "stream",
     "text": [
      "File downloaded: 2039040 bytes\n"
     ]
    }
   ],
   "source": [
    "# Example: first result row:\n",
    "single_url = TAP_results['access_url'][0]\n",
    "filename = TAP_results['obs_id'][0] + \"_lc.fits\"\n",
    "r = requests.get(single_url, allow_redirects=True)\n",
    "open(filename, 'wb').write(r.content)\n",
    "print('File downloaded: {} bytes'.format(r.headers['Content-length']))\n",
    "\n",
    "\n",
    "# Uncomment the code below to download every file in a loop. \n",
    "# Warning: this can take some time as there are ~900 2megabyte files listed from the notebook's original sample query \n",
    "# (see \"True length\" of masked table above).\n",
    "\n",
    "#for rows in TAP_results:\n",
    "#    single_url = rows['access_url']\n",
    "#    filename = rows['obs_id'] + \"_lc.fits\"\n",
    "#    r = requests.get(single_url, allow_redirects=True)\n",
    "#    open(filename, 'wb').write(r.content)\n",
    "#print('All files downloaded.')"
   ]
  },
  {
   "cell_type": "markdown",
   "metadata": {},
   "source": [
    "If you have problems running requests or would rather save individual files through your browser, you can simply print clickable links, instead, or wrap them in curl or wget calls, which may be different based on your operating system."
   ]
  },
  {
   "cell_type": "code",
   "execution_count": 10,
   "metadata": {
    "execution": {
     "iopub.execute_input": "2023-08-22T14:50:19.892643Z",
     "iopub.status.busy": "2023-08-22T14:50:19.892276Z",
     "iopub.status.idle": "2023-08-22T14:50:19.896896Z",
     "shell.execute_reply": "2023-08-22T14:50:19.895796Z"
    }
   },
   "outputs": [
    {
     "name": "stdout",
     "output_type": "stream",
     "text": [
      "https://mast.stsci.edu/portal/Download/file?uri=mast:TESS/product/tess2018206045859-s0001-0000000060110897-0120-s_lc.fits\n"
     ]
    }
   ],
   "source": [
    "# Example: first result row:\n",
    "single_url = TAP_results['access_url'][0]\n",
    "print(single_url)\n",
    "\n",
    "# Uncomment the code below to display clickable links for every file in a loop.\n",
    "#for rows in TAP_results:\n",
    "#    single_url = rows['access_url'].decode('UTF-8')\n",
    "#    print(single_url)"
   ]
  },
  {
   "cell_type": "markdown",
   "metadata": {},
   "source": [
    "***\n",
    "# Additional Resources\n",
    "\n",
    "\n",
    "## Table Access Protocol \n",
    "* IVOA standard for RESTful web service access to tabular data\n",
    "* http://www.ivoa.net/documents/TAP/\n",
    "\n",
    "\n",
    "## Astronomical Query Data Language (2.0)\n",
    "* IVOA standard for querying astronomical data in tabular format, with geometric search support\n",
    "* http://www.ivoa.net/documents/latest/ADQL.html\n",
    "\n",
    "\n",
    "## Common Archive Observation Model (2)\n",
    "* IVOA standard data model whose relational representation this catalog follows\n",
    "* http://www.opencadc.org/caom2/\n",
    "\n",
    "\n",
    "## PyVO\n",
    "* an affiliated package for astropy\n",
    "* find and retrieve astronomical data available from archives that support standard IVOA virtual observatory service protocols.\n",
    "* https://pyvo.readthedocs.io/en/latest/index.html"
   ]
  },
  {
   "cell_type": "markdown",
   "metadata": {},
   "source": [
    "***"
   ]
  },
  {
   "cell_type": "markdown",
   "metadata": {},
   "source": [
    "## About this Notebook\n",
    "**Authors:** Scott Fleming & Theresa Dower, STScI Archive Scientists & Software Engineer\n",
    "\n",
    "**Last Updated**: Dec 2022"
   ]
  },
  {
   "cell_type": "markdown",
   "metadata": {},
   "source": [
    "***"
   ]
  },
  {
   "cell_type": "markdown",
   "metadata": {},
   "source": [
    "<img style=\"float: right;\" src=\"https://raw.githubusercontent.com/spacetelescope/notebooks/master/assets/stsci_pri_combo_mark_horizonal_white_bkgd.png\" alt=\"STScI logo\" width=\"200px\"/> "
   ]
  }
 ],
 "metadata": {
  "language_info": {
   "codemirror_mode": {
    "name": "ipython",
    "version": 3
   },
   "file_extension": ".py",
   "mimetype": "text/x-python",
   "name": "python",
   "nbconvert_exporter": "python",
   "pygments_lexer": "ipython3",
   "version": "3.11.4"
  }
 },
 "nbformat": 4,
 "nbformat_minor": 4
}
